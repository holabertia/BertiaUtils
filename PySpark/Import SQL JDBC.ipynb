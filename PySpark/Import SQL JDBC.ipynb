{
 "cells": [
  {
   "cell_type": "markdown",
   "metadata": {},
   "source": [
    "## Importar datos SQL con conector JDBC\n",
    "\n",
    "Este notebook importa datos de una base de datos SQL a través del conector JDBC de pyspark (desde Databricks).\n",
    "\n",
    "Este conector permite usarse sin necesidad de instalar el driver ODBC en la máquina desde donde se ejecute, simplificando el proceso.\n",
    "\n",
    "Además, es mucho más óptimo ya que es nativo y se genera el dataframe de pyspark directamente con la query SQL.\n",
    "\n",
    "\n",
    "Este notebook __SOLO__ contiene la forma de conectarse a la BBDD con JDBC. Si se quiere usar en un proceso automatizado, se debería crear una función para que los imports usen los datasets de catálogo y sea todo dinámico."
   ]
  },
  {
   "cell_type": "code",
   "execution_count": null,
   "metadata": {},
   "outputs": [],
   "source": [
    "%run DEV/Utils/LakehouseFunctions "
   ]
  },
  {
   "cell_type": "code",
   "execution_count": null,
   "metadata": {},
   "outputs": [],
   "source": [
    "# Configuración de la conexión\n",
    "jdbcHostname = \"<server ip>\"\n",
    "jdbcPort = 1433\n",
    "jdbcDatabase = \"<databasename>\"\n",
    "jdbcUsername = \"<username>\"\n",
    "jdbcPassword = \"<password>\"\n",
    "\n",
    "# Cadena de conexión JDBC\n",
    "jdbcUrl = f\"jdbc:sqlserver://{jdbcHostname}:{jdbcPort};database={jdbcDatabase};encrypt=true;trustServerCertificate=true\"\n",
    "\n",
    "# Propiedades de la conexión\n",
    "connectionProperties = {\n",
    "    \"user\": jdbcUsername,\n",
    "    \"password\": jdbcPassword,\n",
    "    \"driver\": \"com.microsoft.sqlserver.jdbc.SQLServerDriver\"\n",
    "}\n",
    "\n",
    "# Lectura de datos desde SQL Server\n",
    "df = spark.read.jdbc(url=jdbcUrl, table=\"LIST\", properties=connectionProperties)\n",
    "\n",
    "# Muestra los datos\n",
    "display(df)"
   ]
  }
 ],
 "metadata": {
  "kernelspec": {
   "display_name": "Python 3",
   "language": "python",
   "name": "python3"
  },
  "language_info": {
   "codemirror_mode": {
    "name": "ipython",
    "version": 3
   },
   "file_extension": ".py",
   "mimetype": "text/x-python",
   "name": "python",
   "nbconvert_exporter": "python",
   "pygments_lexer": "ipython3",
   "version": "3.11.3"
  }
 },
 "nbformat": 4,
 "nbformat_minor": 2
}
