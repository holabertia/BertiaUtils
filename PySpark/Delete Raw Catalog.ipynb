{
 "cells": [
  {
   "cell_type": "markdown",
   "metadata": {},
   "source": [
    "## Borrar tablas de raw según el subtype del catálogo\n",
    "\n",
    "Este código sirve para eliminar las tablas de catálogo que incluyan el subtype del catálogo a importar. De esta manera, solo estamos borrando las tablas que posiblemente se vayan a importar en esta ejecución sin tocar las que se pueden estar generando en otro proceso (evitamos problemas de concurrencia) o eliminar aquellas que todavía no se vayan a importar y perder su trazabilidad.\n",
    "\n",
    "En el caso de Logisfashion, todos los datos que se importan desde Logiscore (BBDD origen de la mayoria de sus datos) se importan con el prefijo \"sqllogiscore_\" para todas las tablas. Dentro de estas tablas, hay diferentes subtypes de SQL:\n",
    "- SQL\n",
    "- SQLNS\n",
    "- SQLREAL ...\n",
    "\n",
    "El objetivo es mantener la legibilidad de las tablas y el buen funcionamiento de los borrados."
   ]
  },
  {
   "cell_type": "code",
   "execution_count": 1,
   "metadata": {},
   "outputs": [],
   "source": [
    "def get_unique_tablelist(dataset_tables):\n",
    "    \"\"\"\n",
    "    Devuelve una lista con los nombres únicos de las tablas del dataset.\n",
    "\n",
    "    Parametros:\n",
    "    dataset_tables (pandas dataframe): El resultado de la query de datasets de la BBDD catálogo\n",
    "\n",
    "    Devuelve:\n",
    "    final_tablenames (lista de strings): Lista con los nombres únicos de las tablas de los datasets a tratar\n",
    "    \n",
    "    \"\"\"\n",
    "    \n",
    "    landing_tables = list(dataset_tables.groupby(\"TableName\").groups.items())\n",
    "\n",
    "    # Crear un conjunto para almacenar los nombres únicos\n",
    "    final_tablenames = set()\n",
    "\n",
    "    # Procesar cada entrada en la lista\n",
    "    for table_name, _ in landing_tables:\n",
    "\n",
    "        final_tablenames.add(table_name.lower())\n",
    "\n",
    "    # Convertir el conjunto a una lista (opcional)\n",
    "    final_tablenames = list(final_tablenames)\n",
    "\n",
    "    # Imprimir los nombres únicos\n",
    "    print(final_tablenames)\n",
    "\n",
    "    return final_tablenames"
   ]
  },
  {
   "cell_type": "code",
   "execution_count": 2,
   "metadata": {},
   "outputs": [],
   "source": [
    "def delete_tables(schema, tablename_list, table_prefix = \"\"):\n",
    "    \"\"\"\n",
    "    Elimina las tablas del esquema y prefijo que se le pasa por parametros\n",
    "\n",
    "    Parametros:\n",
    "    schema (string): Catalogo + Esquema de donde se quieren borrar los datos\n",
    "    tablename_list (lista de strings): Lista con los nombres únicos de las tablas de los datasets a tratar\n",
    "    table_prefix (string): prefijo de los datos. Si no tiene, el valor por defecto es un string vacío\n",
    "\n",
    "    Devuelve:\n",
    "    Nada\n",
    "    \"\"\"\n",
    "    \n",
    "    # Obtener la lista de tablas en el esquema\n",
    "    tables = spark.catalog.listTables(schema)\n",
    "    tables = [table for table in tables if table_prefix in table.name]\n",
    "\n",
    "    # Este paso es opcional segun tus datos. En Logisfashion los nombres de las tablas son catalogo.esquema.sqllogiscore_inbounds_esp <prefijo_tabla_origenpais>.\n",
    "    # Con el siguiente código nos estamos quedando solo con el nombre de la tabla.\n",
    "    tables = [table for table in tables if table.name.split(\"_\")[-2] in tablename_list]\n",
    "\n",
    "    # Iterar sobre la lista y eliminar cada tabla\n",
    "    try:\n",
    "        for table in tables:\n",
    "            table_name = table.name\n",
    "            print(\"Eliminando \", schema_name, \".\", table_name)\n",
    "            spark.sql(f\"DROP TABLE {schema_name}.{table_name}\")\n",
    "    except Exception as e:\n",
    "        print(str(e))"
   ]
  },
  {
   "cell_type": "code",
   "execution_count": null,
   "metadata": {},
   "outputs": [],
   "source": [
    "# Define el nombre del esquema\n",
    "schema_name = \"pro.raw\"\n",
    "\n",
    "# Define el prefijo de los datos\n",
    "table_prefix = \"sqllogiscore_\"\n",
    "\n",
    "\n",
    "table_list = get_unique_tablelist(sql_datasets)\n",
    "\n",
    "delete_tables(schema_name, table_list, table_prefix)"
   ]
  }
 ],
 "metadata": {
  "kernelspec": {
   "display_name": "Python 3",
   "language": "python",
   "name": "python3"
  },
  "language_info": {
   "codemirror_mode": {
    "name": "ipython",
    "version": 3
   },
   "file_extension": ".py",
   "mimetype": "text/x-python",
   "name": "python",
   "nbconvert_exporter": "python",
   "pygments_lexer": "ipython3",
   "version": "3.11.3"
  }
 },
 "nbformat": 4,
 "nbformat_minor": 2
}
