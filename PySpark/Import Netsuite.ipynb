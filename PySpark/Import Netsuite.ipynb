{
 "cells": [
  {
   "cell_type": "markdown",
   "metadata": {},
   "source": [
    "## Importar datos de Netsuite\n",
    "\n",
    "Este notebook sirve para conectarse e importar datos del ERP de Oracle \"Netsuite\".\n",
    "\n",
    "La diferencia más significativa en el código es el driver que se utiliza en el import con JDBC"
   ]
  },
  {
   "cell_type": "code",
   "execution_count": null,
   "metadata": {},
   "outputs": [],
   "source": [
    "%run DEV/Utils/LakehouseFunctions  "
   ]
  },
  {
   "cell_type": "code",
   "execution_count": null,
   "metadata": {},
   "outputs": [],
   "source": [
    "# Buscamos los orígenes que contengan NETSUITE\n",
    "df_netsuite = pd.read_sql(f\"SELECT * FROM Origins WHERE Name = 'NETSUITE'\", engine_conn)\n",
    "\n",
    "# Obtenemos el Endpoint y el nombre de la BBDD de Netsuite\n",
    "endpoint = df_netsuite[\"Endpoint\"][0]\n",
    "database = df_netsuite[\"Name\"][0]\n",
    "\n",
    "# Obtenemos el Usuario y la contraseña\n",
    "username = dbutils.secrets.get(keyvault_name, df_netsuite[\"Username\"][0]) \n",
    "secret = dbutils.secrets.get(keyvault_name, df_netsuite[\"Secret\"][0])\n",
    "\n",
    "# Especificamos el driver de JDBC para obtener datos de Netsuite\n",
    "driver =\"com.netsuite.jdbc.openaccess.OpenAccessDriver\"\n",
    "\n",
    "#Consulta al listado de tablas añadidas en el catálogo para su descarga\n",
    "df_datasets = pd.read_sql(\"SELECT Datasets.Id as DatasetId, Datasets.Name as DatasetName, Query, Keys, ChangeTrackingVersion, TableName FROM Origins LEFT JOIN Datasets on Origins.Id = Datasets.OriginId WHERE Origins.Name = 'NETSUITE' and IsActive = 1\", engine_conn)\n",
    "df_datasets"
   ]
  },
  {
   "cell_type": "code",
   "execution_count": null,
   "metadata": {},
   "outputs": [],
   "source": [
    "Incremental=False\n",
    "\n",
    "# Por cada uno de los datasets, importamos la tabla que contiene Netsuite\n",
    "for _, table in df_datasets.iterrows():\n",
    "    table_name = table['TableName']\n",
    "    keys=table['Keys']\n",
    "    table_df = spark.read.format ( \"jdbc\" ) \\\n",
    "        .option ( \"driver\" , driver) \\\n",
    "        .option ( \"url\" , endpoint) \\\n",
    "        .option (\"user\", username) \\\n",
    "        .option (\"password\", secret) \\\n",
    "        .option ( \"dbtable\" , table_name) \\\n",
    "        .load ()\n",
    "    \n",
    "    # Borramos el raw data de las tablas de Netsuite subidas anteriormente en el esquema RAW\n",
    "    delete_raw_data(\"Netsuite_\"+table_name)\n",
    "\n",
    "    # Guardamos los datos nuevos en el esquema RAW\n",
    "    write_raw_data(table_df,\"Netsuite_\"+table_name)\n",
    "\n",
    "    # Pasamos a la capa final los datos de RAW acabados de importar\n",
    "    write_standardized_data(\"Netsuite_\"+table['TableName'], Incremental, keys)"
   ]
  }
 ],
 "metadata": {
  "language_info": {
   "name": "python"
  }
 },
 "nbformat": 4,
 "nbformat_minor": 2
}
